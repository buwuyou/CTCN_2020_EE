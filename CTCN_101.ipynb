{
  "nbformat": 4,
  "nbformat_minor": 0,
  "metadata": {
    "colab": {
      "name": "CTCN 101.ipynb",
      "provenance": [],
      "collapsed_sections": [],
      "toc_visible": true,
      "include_colab_link": true
    },
    "kernelspec": {
      "name": "python3",
      "display_name": "Python 3"
    }
  },
  "cells": [
    {
      "cell_type": "markdown",
      "metadata": {
        "id": "view-in-github",
        "colab_type": "text"
      },
      "source": [
        "<a href=\"https://colab.research.google.com/github/buwuyou/CTCN_2020_EE/blob/master/CTCN_101.ipynb\" target=\"_parent\"><img src=\"https://colab.research.google.com/assets/colab-badge.svg\" alt=\"Open In Colab\"/></a>"
      ]
    },
    {
      "cell_type": "markdown",
      "metadata": {
        "id": "qvzoqcqUsc_k",
        "colab_type": "text"
      },
      "source": [
        "# Introduction\n",
        "This notebook demostrates how to set up [Earth Engine Python API](https://developers.google.com/earth-engine/python_install) in dealing with satellite imagery. Specifically, this notebook shows:\n",
        "1. Authentication Earth Engine Python API to this server\n",
        "2. Define Area of Interest for Earth Engine Datasets\n",
        "3. Load satellite imagery, process and display\n",
        "4. Export image\n",
        "\n",
        "\n",
        "[Earth Engine Python API](https://developers.google.com/earth-engine/python_install) facilitates interacting with Earth Engine servers using the Python programming language. As compared to Earth Engine Javascript Playground (https://code.earthengine.google.com/), Python API allows the user to use jupyter notebook and rich sources of Python libraries, which are particular good for training purposes. The main difference is the syntex-wise definition of variable and function according to Python lauguage. The core of Earth Engine API function is persistent (https://developers.google.com/earth-engine/api_docs). Unlike Earth Engine Python API, there are a rich resources of tutorials to learn Earth Engine Javascript API, check here to learn more: https://developers.google.com/earth-engine/tutorials\n",
        "\n",
        "Prerequisites: Review the [Earth Engine get started guide](https://developers.google.com/earth-engine/getstarted) and [Earth Engine Python API doc](https://developers.google.com/earth-engine/python_install)\n",
        "\n",
        "***TIP:*** \n",
        "\n",
        "**You do not need to understand everything (at least not right now)**. Your goal is to run through the tutorial end-to-end and get results. You do not need to understand everything on the first pass. List down your questions as you go. Make heavy use of the [API documentation](https://developers.google.com/earth-engine/getstarted) to learn about all of the functions that you’re using.\n"
      ]
    },
    {
      "cell_type": "markdown",
      "metadata": {
        "id": "z5F91A8eryDy",
        "colab_type": "text"
      },
      "source": [
        "# 1. Authentificate GEE Python API"
      ]
    },
    {
      "cell_type": "markdown",
      "metadata": {
        "id": "-sImble1v0HN",
        "colab_type": "text"
      },
      "source": [
        "Make sure you sign up for a GEE account beforehand: https://signup.earthengine.google.com/#!/"
      ]
    },
    {
      "cell_type": "code",
      "metadata": {
        "id": "dKn8IfD_r3QD",
        "colab_type": "code",
        "cellView": "both",
        "colab": {}
      },
      "source": [
        "#@title\n",
        "!pip install -q earthengine-api\n",
        "\n",
        "# Import the Earth Engine library.\n",
        "import ee\n",
        "\n",
        "# Trigger the authentication flow.\n",
        "ee.Authenticate()\n",
        "ee.Initialize()"
      ],
      "execution_count": 0,
      "outputs": []
    },
    {
      "cell_type": "markdown",
      "metadata": {
        "id": "TI7QtqzowdoI",
        "colab_type": "text"
      },
      "source": [
        "Import python libraies for map visualization (folium: https://python-visualization.github.io/folium/), pretty printer for printing information of earth engine objects (pprint: https://docs.python.org/3/library/pprint.html)"
      ]
    },
    {
      "cell_type": "code",
      "metadata": {
        "id": "cMcp3iqpvuKu",
        "colab_type": "code",
        "cellView": "form",
        "colab": {}
      },
      "source": [
        "#@title\n",
        "import folium\n",
        "from pprint import pprint \n",
        "from folium import plugins\n",
        "print(folium.__version__)"
      ],
      "execution_count": 0,
      "outputs": []
    },
    {
      "cell_type": "markdown",
      "metadata": {
        "id": "mee-LI03mc8h",
        "colab_type": "text"
      },
      "source": [
        "Add custom basemaps, generic setup"
      ]
    },
    {
      "cell_type": "code",
      "metadata": {
        "id": "qfUFmC2WmWGC",
        "colab_type": "code",
        "cellView": "form",
        "colab": {}
      },
      "source": [
        "#@title\n",
        "# Add custom basemaps to folium\n",
        "basemaps = {\n",
        "    'Google Maps': folium.TileLayer(\n",
        "        tiles = 'https://mt1.google.com/vt/lyrs=m&x={x}&y={y}&z={z}',\n",
        "        attr = 'Google',\n",
        "        name = 'Google Maps',\n",
        "        overlay = True,\n",
        "        control = True\n",
        "    ),\n",
        "    'Google Satellite': folium.TileLayer(\n",
        "        tiles = 'https://mt1.google.com/vt/lyrs=s&x={x}&y={y}&z={z}',\n",
        "        attr = 'Google',\n",
        "        name = 'Google Satellite',\n",
        "        overlay = True,\n",
        "        control = True\n",
        "    ),\n",
        "    'Google Terrain': folium.TileLayer(\n",
        "        tiles = 'https://mt1.google.com/vt/lyrs=p&x={x}&y={y}&z={z}',\n",
        "        attr = 'Google',\n",
        "        name = 'Google Terrain',\n",
        "        overlay = True,\n",
        "        control = True\n",
        "    ),\n",
        "    'Google Satellite Hybrid': folium.TileLayer(\n",
        "        tiles = 'https://mt1.google.com/vt/lyrs=y&x={x}&y={y}&z={z}',\n",
        "        attr = 'Google',\n",
        "        name = 'Google Satellite',\n",
        "        overlay = True,\n",
        "        control = True\n",
        "    ),\n",
        "    'Esri Satellite': folium.TileLayer(\n",
        "        tiles = 'https://server.arcgisonline.com/ArcGIS/rest/services/World_Imagery/MapServer/tile/{z}/{y}/{x}',\n",
        "        attr = 'Esri',\n",
        "        name = 'Esri Satellite',\n",
        "        overlay = True,\n",
        "        control = True\n",
        "    )\n",
        "}"
      ],
      "execution_count": 0,
      "outputs": []
    },
    {
      "cell_type": "markdown",
      "metadata": {
        "id": "SOQkigvqwtUW",
        "colab_type": "text"
      },
      "source": [
        "# 2. Define Area of Interest\n",
        "\n",
        "Earth Engine handles vector data with the Geometry type, including Point (a list of coordinates in some projection), LineString (a list of points), LinearRing (a closed LineString), and Polygon (a list of LinearRings where the first is a shell and subsequent rings are holes). Check here to learn more: https://developers.google.com/earth-engine/geometries\n",
        "\n",
        "We will define a Geometry as Polygon, which defined coordinates as a GeoJSON polygon. To get the coordinates in a simple way, this is a website to define GeoJSON geometry (http://geojson.io/), draw a polygon on the map using the web-tool, then you will find the coordinates on the right panel, replace the coordinates below according to the coordinates of your AOI.\n"
      ]
    },
    {
      "cell_type": "code",
      "metadata": {
        "id": "TF3rP-rJwx5B",
        "colab_type": "code",
        "colab": {}
      },
      "source": [
        "AOI = ee.Geometry.Polygon(\n",
        "        [[[\n",
        "              89.40673828125,\n",
        "              21.37124437061831\n",
        "            ],\n",
        "            [\n",
        "              90.90087890624999,\n",
        "              21.37124437061831\n",
        "            ],\n",
        "            [\n",
        "              90.90087890624999,\n",
        "              22.471954507739227\n",
        "            ],\n",
        "            [\n",
        "              89.40673828125,\n",
        "              22.471954507739227\n",
        "            ],\n",
        "            [\n",
        "              89.40673828125,\n",
        "              21.37124437061831\n",
        "            ]]])"
      ],
      "execution_count": 0,
      "outputs": []
    },
    {
      "cell_type": "markdown",
      "metadata": {
        "id": "IaW1HL6TyF35",
        "colab_type": "text"
      },
      "source": [
        "## Display the defined AOI"
      ]
    },
    {
      "cell_type": "code",
      "metadata": {
        "id": "wPKQjEeOy9jq",
        "colab_type": "code",
        "colab": {}
      },
      "source": [
        "map = folium.Map(location=[22., 89.], zoom_start=7)\n",
        "folium.GeoJson(\n",
        "            data = AOI.getInfo(),\n",
        "            name = 'Area of Interest',\n",
        "            overlay = True,\n",
        "            control = True\n",
        "        ).add_to(map)\n",
        "map.add_child(folium.LayerControl())\n",
        "map"
      ],
      "execution_count": 0,
      "outputs": []
    },
    {
      "cell_type": "markdown",
      "metadata": {
        "id": "NEvIYXE5yatl",
        "colab_type": "text"
      },
      "source": [
        "# 3. Load satellite imagery, process and display them\n",
        "This section includes:\n",
        "0. General introduction on how to find and display data from earth engine\n",
        "1. Landsat-8 surface reflectance dataset display, check metadata and cloud masking\n",
        "2. Sentinel-2 surface reflectance dataset display, check metadata and cloud masking\n",
        "3. Sentinel-1 backscatter display and check metadata"
      ]
    },
    {
      "cell_type": "markdown",
      "metadata": {
        "id": "BbTwrG12rt5B",
        "colab_type": "text"
      },
      "source": [
        "## Search for datasets in Earth Engine Data Catalog\n",
        "\n",
        "Use the provided link below: \n",
        "https://developers.google.com/earth-engine/datasets\n",
        "\n",
        "Try to search for 'elevation' or 'dem' or 'SRTM', you will see a result as 'SRTM Digital Elevation Data 30m' , click and read the dataset descriptions to understand the format. The '**Earth Engine Snippet**' indicates the ID for this dataset. The ID for this DEM image is \n",
        ">`ee.Image(\"USGS/SRTMGL1_003\")`\n",
        "\n",
        "We will load this image and find out the elevation for the Mount Everest."
      ]
    },
    {
      "cell_type": "code",
      "metadata": {
        "id": "bepCAJWgrtNk",
        "colab_type": "code",
        "colab": {}
      },
      "source": [
        "# Print the elevation of Mount Everest.\n",
        "dem = ee.Image('USGS/SRTMGL1_003')\n",
        "xy = ee.Geometry.Point([86.9250, 27.9881])\n",
        "elev = dem.sample(xy, 30).first().get('elevation').getInfo()\n",
        "print('Mount Everest elevation (m):', elev)"
      ],
      "execution_count": 0,
      "outputs": []
    },
    {
      "cell_type": "markdown",
      "metadata": {
        "id": "4K7McPAKpq9-",
        "colab_type": "text"
      },
      "source": [
        "### SRTM DEM 30m"
      ]
    },
    {
      "cell_type": "code",
      "metadata": {
        "id": "SbHZHMjjncMP",
        "colab_type": "code",
        "colab": {}
      },
      "source": [
        "# Set visualization parameters.\n",
        "vis_params = {\n",
        "  'min': 0,\n",
        "  'max': 4000,\n",
        "  'palette': ['006633', 'E5FFCC', '662A00', 'D8D8D8', 'F5F5F5']}\n",
        "\n",
        "# Create a folium map object.\n",
        "my_map = folium.Map(location=[20, 0], zoom_start=3, height=500)\n",
        "\n",
        "# Add custom basemaps\n",
        "basemaps['Google Maps'].add_to(my_map)\n",
        "basemaps['Google Satellite Hybrid'].add_to(my_map)\n",
        "\n",
        "# Add the elevation model to the map object.\n",
        "mapid = dem.updateMask(dem.gt(0)).getMapId(vis_params)\n",
        "folium.TileLayer(\n",
        "    tiles=mapid['tile_fetcher'].url_format,\n",
        "    attr='Map Data &copy; <a href=\"https://earthengine.google.com/\">Google Earth Engine</a>',\n",
        "    overlay=True,\n",
        "    name='training polygons',\n",
        "  ).add_to(my_map)\n",
        "\n",
        "# Add a layer control panel to the map.\n",
        "my_map.add_child(folium.LayerControl())\n",
        "\n",
        "# Add fullscreen button\n",
        "plugins.Fullscreen().add_to(my_map)\n",
        "\n",
        "# Display the map.\n",
        "display(my_map)"
      ],
      "execution_count": 0,
      "outputs": []
    },
    {
      "cell_type": "markdown",
      "metadata": {
        "id": "RjrTEjPtpHpj",
        "colab_type": "text"
      },
      "source": [
        "Again, try to search for 'landsat' and 'landsat 7' and 'landsat 8 surface reflectance', understand the differences in Landsat long-term time series data."
      ]
    },
    {
      "cell_type": "markdown",
      "metadata": {
        "id": "kPhx8oxXzQIc",
        "colab_type": "text"
      },
      "source": [
        "### Landsat-8"
      ]
    },
    {
      "cell_type": "markdown",
      "metadata": {
        "id": "dx8LwLHozhJa",
        "colab_type": "text"
      },
      "source": [
        "Load the dataset, filter the images within the AOI, and filter the acquring datas for Jan, 2019"
      ]
    },
    {
      "cell_type": "code",
      "metadata": {
        "id": "gnhnbCn-ykBH",
        "colab_type": "code",
        "colab": {}
      },
      "source": [
        "# Use Landsat 8 surface reflectance data.\n",
        "l8sr = (ee.ImageCollection('LANDSAT/LC08/C01/T1_SR')\n",
        "            .filterBounds(AOI)\n",
        "            .filterDate('2019-01-01', '2019-12-31')\n",
        "            .filter(ee.Filter.lt('CLOUD_COVER',50))\n",
        "            .sort('CLOUD_COVER',False))"
      ],
      "execution_count": 0,
      "outputs": []
    },
    {
      "cell_type": "code",
      "metadata": {
        "id": "hmkCqsHjAskv",
        "colab_type": "code",
        "colab": {}
      },
      "source": [
        "pprint ({'Number of landsat images': l8sr.size().getInfo()})"
      ],
      "execution_count": 0,
      "outputs": []
    },
    {
      "cell_type": "code",
      "metadata": {
        "id": "PdyqwPFbA1hz",
        "colab_type": "code",
        "colab": {}
      },
      "source": [
        "pprint ({'First landsat image': l8sr.first().getInfo()})"
      ],
      "execution_count": 0,
      "outputs": []
    },
    {
      "cell_type": "markdown",
      "metadata": {
        "id": "hj8b7ej2z5qr",
        "colab_type": "text"
      },
      "source": [
        "Display the image with clouds"
      ]
    },
    {
      "cell_type": "code",
      "metadata": {
        "id": "i_8r7NDY0CTe",
        "colab_type": "code",
        "colab": {}
      },
      "source": [
        "# The image input data is a 2019 cloud-masked median composite.\n",
        "image = l8sr.first()\n",
        "\n",
        "# Use folium to visualize the imagery.\n",
        "mapIdDict = image.getMapId({'bands': ['B4', 'B3', 'B2'], 'min': 0, 'max': 3000})\n",
        "map = folium.Map(location=[22.,89.], zoom_start=7)\n",
        "folium.TileLayer(\n",
        "    tiles=mapIdDict['tile_fetcher'].url_format,\n",
        "    attr='Map Data &copy; <a href=\"https://earthengine.google.com/\">Google Earth Engine</a>',\n",
        "    overlay=True,\n",
        "    name='Landsat-8 with clouds',\n",
        "  ).add_to(map)\n",
        "map.add_child(folium.LayerControl())\n",
        "map"
      ],
      "execution_count": 0,
      "outputs": []
    },
    {
      "cell_type": "markdown",
      "metadata": {
        "id": "QyeFQlQe0BV6",
        "colab_type": "text"
      },
      "source": [
        "Define a function for cloud and shadow masking"
      ]
    },
    {
      "cell_type": "code",
      "metadata": {
        "id": "dWN3XJK7y2rn",
        "colab_type": "code",
        "colab": {}
      },
      "source": [
        "# Cloud masking function.\n",
        "def maskL8sr(image):\n",
        "  cloudShadowBitMask = ee.Number(2).pow(3).int()\n",
        "  cloudsBitMask = ee.Number(2).pow(5).int()\n",
        "  qa = image.select('pixel_qa')\n",
        "  mask = qa.bitwiseAnd(cloudShadowBitMask).eq(0).And(\n",
        "    qa.bitwiseAnd(cloudsBitMask).eq(0))\n",
        "  return image.updateMask(mask).divide(10000)"
      ],
      "execution_count": 0,
      "outputs": []
    },
    {
      "cell_type": "code",
      "metadata": {
        "id": "3RauyP6yy8zC",
        "colab_type": "code",
        "colab": {}
      },
      "source": [
        "# The image input data is a 2019 cloud-masked image.\n",
        "image = l8sr.map(maskL8sr).first()\n",
        "\n",
        "# Use folium to visualize the imagery.\n",
        "mapIdDict = image.getMapId({'bands': ['B4', 'B3', 'B2'], 'min': 0, 'max': 0.3})\n",
        "map = folium.Map(location=[22.,89.], zoom_start=7)\n",
        "folium.TileLayer(\n",
        "    tiles=mapIdDict['tile_fetcher'].url_format,\n",
        "    attr='Map Data &copy; <a href=\"https://earthengine.google.com/\">Google Earth Engine</a>',\n",
        "    overlay=True,\n",
        "    name='Landsat-8 without clouds',\n",
        "  ).add_to(map)\n",
        "map.add_child(folium.LayerControl())\n",
        "map"
      ],
      "execution_count": 0,
      "outputs": []
    },
    {
      "cell_type": "markdown",
      "metadata": {
        "id": "dq57QtWw5BXp",
        "colab_type": "text"
      },
      "source": [
        "Display the median composite image and clip to AOI"
      ]
    },
    {
      "cell_type": "code",
      "metadata": {
        "id": "j_ZV_y2D4sC_",
        "colab_type": "code",
        "colab": {}
      },
      "source": [
        "# The image input data is a 2019 cloud-masked median composite.\n",
        "image = l8sr.map(maskL8sr).median().clip(AOI)\n",
        "\n",
        "# Use folium to visualize the imagery.\n",
        "mapIdDict = image.getMapId({'bands': ['B4', 'B3', 'B2'], 'min': 0, 'max': 0.3})\n",
        "map = folium.Map(location=[22.,89.], zoom_start=8)\n",
        "folium.TileLayer(\n",
        "    tiles=mapIdDict['tile_fetcher'].url_format,\n",
        "    attr='Map Data &copy; <a href=\"https://earthengine.google.com/\">Google Earth Engine</a>',\n",
        "    overlay=True,\n",
        "    name='L8 median composite',\n",
        "  ).add_to(map)\n",
        "map.add_child(folium.LayerControl())\n",
        "map"
      ],
      "execution_count": 0,
      "outputs": []
    },
    {
      "cell_type": "markdown",
      "metadata": {
        "id": "X62Tza-67LDK",
        "colab_type": "text"
      },
      "source": [
        "### Sentinel-2"
      ]
    },
    {
      "cell_type": "code",
      "metadata": {
        "id": "-k2PwTNP7J-Q",
        "colab_type": "code",
        "colab": {}
      },
      "source": [
        "# Function to mask clouds using the Sentinel-2 SCL band.\n",
        "def S2CloudMaskSCL(img):\n",
        "  qa = img.select('SCL')\n",
        "  mask_band = qa.eq(3).Or(qa.eq(8)).Or(qa.eq(9)).Or(qa.eq(10)).Or(qa.eq(11))\n",
        "  mask = mask_band.eq(0)\n",
        "  # Return the masked and scaled data.\n",
        "  return img.updateMask(mask)\n",
        "def ESAcloudMask(img):\n",
        "    ''' Sentinel-2 Bits 10 & 11 are clouds & cirrus, so set to 0. '''\n",
        "    qa = img.select('QA60')\n",
        "    cloudBitMask = int(2**10)\n",
        "    cirrusBitMask = int(2**11)\n",
        "    clear = qa.bitwiseAnd(cloudBitMask).eq(0).And(\\\n",
        "           qa.bitwiseAnd(cirrusBitMask).eq(0))\n",
        "    return img.updateMask(clear) "
      ],
      "execution_count": 0,
      "outputs": []
    },
    {
      "cell_type": "code",
      "metadata": {
        "id": "pqSsW9C07Vu0",
        "colab_type": "code",
        "colab": {}
      },
      "source": [
        "s2sr = (ee.ImageCollection('COPERNICUS/S2_SR')\n",
        "                      .filterDate('2019-01-01', '2019-12-31')\n",
        "                      .filter(ee.Filter.lt('CLOUDY_PIXEL_PERCENTAGE', 50))\n",
        "                      .filterBounds(AOI)\n",
        "                      .map(S2CloudMaskSCL)\n",
        "                      .map(ESAcloudMask))\n",
        "\n"
      ],
      "execution_count": 0,
      "outputs": []
    },
    {
      "cell_type": "code",
      "metadata": {
        "id": "XpsQ7l99BF3l",
        "colab_type": "code",
        "colab": {}
      },
      "source": [
        "pprint ({'Number of Sentinel-2 images': s2sr.size().getInfo()})"
      ],
      "execution_count": 0,
      "outputs": []
    },
    {
      "cell_type": "code",
      "metadata": {
        "id": "l7SXx22hBJwG",
        "colab_type": "code",
        "colab": {}
      },
      "source": [
        "pprint ({'First Sentinel-2 image': s2sr.first().getInfo()})"
      ],
      "execution_count": 0,
      "outputs": []
    },
    {
      "cell_type": "code",
      "metadata": {
        "id": "i2HSq13y7wFq",
        "colab_type": "code",
        "colab": {}
      },
      "source": [
        "# The image input data is a 2019 cloud-masked median composite.\n",
        "s2image = s2sr.median().clip(AOI)\n",
        "l8image = l8sr.map(maskL8sr).median().clip(AOI)\n",
        "# Use folium to visualize the imagery.\n",
        "mapIdDict = s2image.getMapId({'bands': ['B4', 'B3', 'B2'], 'min': 0, 'max': 3000})\n",
        "mapIdDict1 = l8image.getMapId({'bands': ['B4', 'B3', 'B2'], 'min': 0, 'max': 0.3})\n",
        "map = folium.Map(location=[22.,89.], zoom_start=8)\n",
        "folium.TileLayer(\n",
        "    tiles=mapIdDict['tile_fetcher'].url_format,\n",
        "    attr='Map Data &copy; <a href=\"https://earthengine.google.com/\">Google Earth Engine</a>',\n",
        "    overlay=True,\n",
        "    name='S2 median composite',\n",
        "  ).add_to(map)\n",
        "folium.TileLayer(\n",
        "    tiles=mapIdDict1['tile_fetcher'].url_format,\n",
        "    attr='Map Data &copy; <a href=\"https://earthengine.google.com/\">Google Earth Engine</a>',\n",
        "    overlay=True,\n",
        "    name='L8 median composite',\n",
        "  ).add_to(map)\n",
        "map.add_child(folium.LayerControl())\n",
        "map"
      ],
      "execution_count": 0,
      "outputs": []
    },
    {
      "cell_type": "markdown",
      "metadata": {
        "id": "Y--mhnu2867s",
        "colab_type": "text"
      },
      "source": [
        "### Sentinel-1"
      ]
    },
    {
      "cell_type": "code",
      "metadata": {
        "id": "uDsxy0n5897I",
        "colab_type": "code",
        "colab": {}
      },
      "source": [
        "s1 = (ee.ImageCollection('COPERNICUS/S1_GRD')\n",
        "  .filterBounds(AOI)\n",
        "  .filter(ee.Filter.And(\n",
        "    ee.Filter.date('2019-01-01', '2019-01-31'),\n",
        "    ee.Filter.listContains('transmitterReceiverPolarisation', 'VV'),\n",
        "    ee.Filter.listContains('transmitterReceiverPolarisation', 'VH')\n",
        "  )))\n"
      ],
      "execution_count": 0,
      "outputs": []
    },
    {
      "cell_type": "code",
      "metadata": {
        "id": "6Yi6w1Pl98J_",
        "colab_type": "code",
        "colab": {}
      },
      "source": [
        "orbit = ['ASCENDING','DESCENDING']  \n",
        "s1asc = s1.filter(ee.Filter.eq('orbitProperties_pass', orbit[0])).first()\n",
        "pprint ({'print s1 ascending image info:': s1asc.getInfo()})"
      ],
      "execution_count": 0,
      "outputs": []
    },
    {
      "cell_type": "code",
      "metadata": {
        "id": "Gu9H4gc5-SD4",
        "colab_type": "code",
        "colab": {}
      },
      "source": [
        "s1des = s1.filter(ee.Filter.eq('orbitProperties_pass', orbit[1])).first()\n",
        "pprint ({'print s1 descending image info:': s1des.getInfo()})"
      ],
      "execution_count": 0,
      "outputs": []
    },
    {
      "cell_type": "code",
      "metadata": {
        "id": "l7geMeaP2ELX",
        "colab_type": "code",
        "colab": {}
      },
      "source": [
        "mapIdDict = s1.filter(ee.Filter.eq('orbitProperties_pass', orbit[0])).median().getMapId({'bands': ['VV'], 'min': -20, 'max': 4})\n",
        "mapIdDict1 = s1.filter(ee.Filter.eq('orbitProperties_pass', orbit[1])).median().getMapId({'bands': ['VV'], 'min': -20, 'max': 4})\n",
        "map = folium.Map(location=[22.,89.], zoom_start=8)\n",
        "folium.TileLayer(\n",
        "    tiles=mapIdDict['tile_fetcher'].url_format,\n",
        "    attr='Map Data &copy; <a href=\"https://earthengine.google.com/\">Google Earth Engine</a>',\n",
        "    overlay=True,\n",
        "    name='S1 Ascending',\n",
        "  ).add_to(map)\n",
        "folium.TileLayer(\n",
        "    tiles=mapIdDict1['tile_fetcher'].url_format,\n",
        "    attr='Map Data &copy; <a href=\"https://earthengine.google.com/\">Google Earth Engine</a>',\n",
        "    overlay=True,\n",
        "    name='S1 Descending',\n",
        "  ).add_to(map)\n",
        "map.add_child(folium.LayerControl())\n",
        "map"
      ],
      "execution_count": 0,
      "outputs": []
    },
    {
      "cell_type": "code",
      "metadata": {
        "id": "mIHu9Ym5-M5p",
        "colab_type": "code",
        "colab": {}
      },
      "source": [
        "s2image = s2sr.median().clip(AOI)\n",
        "l8image = l8sr.map(maskL8sr).median().clip(AOI)\n",
        "s1image = s1.median().clip(AOI)\n",
        "s1rgb = s1.map(lambda image: image.addBands(ee.Image(image.select('VV').divide(image.select('VH')).rename('ratio')))).median().clip(AOI)\n",
        "# Use folium to visualize the imagery.\n",
        "mapIdDict = s2image.getMapId({'bands': ['B4', 'B3', 'B2'], 'min': 0, 'max': 3000})\n",
        "mapIdDict1 = l8image.getMapId({'bands': ['B4', 'B3', 'B2'], 'min': 0, 'max': 0.3})\n",
        "mapIdDict2 = s1image.getMapId({'bands': ['VV'], 'min': -20, 'max': 4})\n",
        "mapIdDict3 = s1rgb.getMapId({'bands':['VV','VH','ratio'],'min':[-20,-28,0],'max':[4,1,2]})\n",
        "map = folium.Map(location=[22.,89.], zoom_start=8)\n",
        "folium.TileLayer(\n",
        "    tiles=mapIdDict['tile_fetcher'].url_format,\n",
        "    attr='Map Data &copy; <a href=\"https://earthengine.google.com/\">Google Earth Engine</a>',\n",
        "    overlay=True,\n",
        "    name='S2 median composite',\n",
        "  ).add_to(map)\n",
        "folium.TileLayer(\n",
        "    tiles=mapIdDict1['tile_fetcher'].url_format,\n",
        "    attr='Map Data &copy; <a href=\"https://earthengine.google.com/\">Google Earth Engine</a>',\n",
        "    overlay=True,\n",
        "    name='L8 median composite',\n",
        "  ).add_to(map)\n",
        "folium.TileLayer(\n",
        "    tiles=mapIdDict2['tile_fetcher'].url_format,\n",
        "    attr='Map Data &copy; <a href=\"https://earthengine.google.com/\">Google Earth Engine</a>',\n",
        "    overlay=True,\n",
        "    name='S1 VV median composite',\n",
        "  ).add_to(map)\n",
        "folium.TileLayer(\n",
        "    tiles=mapIdDict3['tile_fetcher'].url_format,\n",
        "    attr='Map Data &copy; <a href=\"https://earthengine.google.com/\">Google Earth Engine</a>',\n",
        "    overlay=True,\n",
        "    name='S1 RGB median composite',\n",
        "  ).add_to(map)\n",
        "map.add_child(folium.LayerControl())\n",
        "map"
      ],
      "execution_count": 0,
      "outputs": []
    },
    {
      "cell_type": "markdown",
      "metadata": {
        "id": "Q-oZ4ZFh5mq2",
        "colab_type": "text"
      },
      "source": [
        "# Export image"
      ]
    },
    {
      "cell_type": "markdown",
      "metadata": {
        "id": "ppi2TkxG6D5r",
        "colab_type": "text"
      },
      "source": [
        "Export one Sentinel-2 RGB image and check it in your google drive when the task has been completed.\n",
        "**It will take a bit time for a cup of tea!**"
      ]
    },
    {
      "cell_type": "code",
      "metadata": {
        "id": "GnKpCMXa5pGH",
        "colab_type": "code",
        "colab": {}
      },
      "source": [
        "# define a smaller aoi for exporting\n",
        "export_aoi = ee.Geometry.Polygon([\n",
        "          [\n",
        "            [\n",
        "              89.57324981689453,\n",
        "              22.354203655362834\n",
        "            ],\n",
        "            [\n",
        "              89.70096588134764,\n",
        "              22.354203655362834\n",
        "            ],\n",
        "            [\n",
        "              89.70096588134764,\n",
        "              22.4300707662349\n",
        "            ],\n",
        "            [\n",
        "              89.57324981689453,\n",
        "              22.4300707662349\n",
        "            ],\n",
        "            [\n",
        "              89.57324981689453,\n",
        "              22.354203655362834\n",
        "            ]\n",
        "          ]\n",
        "        ])\n",
        "task= ee.batch.Export.image.toDrive(\n",
        "            image = s2image.select(['B4', 'B3', 'B2']),\n",
        "            description = f'CTCN101',\n",
        "            folder = f'CTCN101',\n",
        "            region= export_aoi.getInfo()[\"coordinates\"],    \n",
        "            scale= 10,\n",
        "            maxPixels= int(2e9),\n",
        "            crs='EPSG:4326')\n",
        "task.start()\n",
        "\n",
        "# Block until the task completes.\n",
        "print('Running image export to Google Drive...')\n",
        "import time\n",
        "while task.active():\n",
        "  time.sleep(30)\n",
        "\n",
        "# Error condition\n",
        "if task.status()['state'] != 'COMPLETED':\n",
        "  print('Error with image export.')\n",
        "else:\n",
        "  print('Image export completed.')"
      ],
      "execution_count": 0,
      "outputs": []
    },
    {
      "cell_type": "markdown",
      "metadata": {
        "id": "rT3jiP_js8Ao",
        "colab_type": "text"
      },
      "source": [
        "> Try to export one image of Sentinel-1 reusing the code above?"
      ]
    },
    {
      "cell_type": "code",
      "metadata": {
        "id": "4uvJA5iutFhs",
        "colab_type": "code",
        "colab": {}
      },
      "source": [
        ""
      ],
      "execution_count": 0,
      "outputs": []
    },
    {
      "cell_type": "markdown",
      "metadata": {
        "id": "2JxKXFQ4qspr",
        "colab_type": "text"
      },
      "source": [
        "Find the export image in your Google Drive, download it and display in your geospatial data analysis software, such as ArcGIS, QGIS"
      ]
    },
    {
      "cell_type": "markdown",
      "metadata": {
        "id": "cDvNqv0Vvd8z",
        "colab_type": "text"
      },
      "source": [
        "# Review what we learned"
      ]
    },
    {
      "cell_type": "markdown",
      "metadata": {
        "id": "_FxLLbs3ub7N",
        "colab_type": "text"
      },
      "source": [
        "Try to search for Earth Engine functions we made use from above materials, which starts with \n",
        ">`ee.`\n",
        "\n",
        "And find and understand the funtion description using the API docs: https://developers.google.com/earth-engine/api_docs"
      ]
    }
  ]
}